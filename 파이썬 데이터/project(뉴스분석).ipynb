{
 "cells": [
  {
   "cell_type": "code",
   "execution_count": 3,
   "id": "96664677",
   "metadata": {},
   "outputs": [
    {
     "ename": "KeyboardInterrupt",
     "evalue": "",
     "output_type": "error",
     "traceback": [
      "\u001b[1;31m---------------------------------------------------------------------------\u001b[0m",
      "\u001b[1;31mKeyboardInterrupt\u001b[0m                         Traceback (most recent call last)",
      "Input \u001b[1;32mIn [3]\u001b[0m, in \u001b[0;36m<cell line: 35>\u001b[1;34m()\u001b[0m\n\u001b[0;32m     32\u001b[0m     f\u001b[38;5;241m.\u001b[39mclose()\n\u001b[0;32m     34\u001b[0m \u001b[38;5;28;01mwhile\u001b[39;00m(\u001b[38;5;28;01mTrue\u001b[39;00m):\n\u001b[1;32m---> 35\u001b[0m     \u001b[43mtime\u001b[49m\u001b[38;5;241;43m.\u001b[39;49m\u001b[43msleep\u001b[49m\u001b[43m(\u001b[49m\u001b[38;5;241;43m20\u001b[39;49m\u001b[43m)\u001b[49m\n\u001b[0;32m     36\u001b[0m     economy()\n",
      "\u001b[1;31mKeyboardInterrupt\u001b[0m: "
     ]
    }
   ],
   "source": [
    "from selenium import webdriver\n",
    "import schedule\n",
    "import time\n",
    "import datetime\n",
    "\n",
    "\n",
    "def economy():\n",
    "    \n",
    "    driver=webdriver.Chrome()\n",
    "    url='https://www.mk.co.kr/news/economy/economic-policy/?page=0'\n",
    "    driver.get(url)\n",
    "\n",
    "    # 기사 크롤링해오기\n",
    "    \n",
    "    for i in range(1,6):\n",
    "        driver.find_element('xpath','//*[@id=\"container_left\"]/div[1]/dl['+str(i)+']/dt/a').click()\n",
    "        time.sleep(5)\n",
    "       \n",
    "        cnt= str(datetime.datetime.now().year) +str(datetime.datetime.now().month)\n",
    "        f = open(\"data/경제\"+cnt+\".txt\",\"a\",newline=\"\")\n",
    "\n",
    "        text= driver.find_element('xpath','//*[@id=\"article_body\"]/div').text\n",
    "        time.sleep(2)\n",
    "        print(text)\n",
    "        f.write\n",
    "        f.write(text)\n",
    "        f.write('\\n')\n",
    "        time.sleep(2)\n",
    "        driver.back()\n",
    "        f.close()\n",
    "\n",
    "    driver.close()\n",
    "\n",
    "\n",
    "\n",
    "schedule.every().day.at(\"18:00\").do(economy)\n",
    "\n",
    "while True:\n",
    "    schedule.run_pending()\n",
    "    time.sleep(1)\n",
    " \n",
    "    "
   ]
  },
  {
   "cell_type": "code",
   "execution_count": null,
   "id": "66f3afd4",
   "metadata": {},
   "outputs": [],
   "source": []
  }
 ],
 "metadata": {
  "kernelspec": {
   "display_name": "Python 3 (ipykernel)",
   "language": "python",
   "name": "python3"
  },
  "language_info": {
   "codemirror_mode": {
    "name": "ipython",
    "version": 3
   },
   "file_extension": ".py",
   "mimetype": "text/x-python",
   "name": "python",
   "nbconvert_exporter": "python",
   "pygments_lexer": "ipython3",
   "version": "3.9.12"
  }
 },
 "nbformat": 4,
 "nbformat_minor": 5
}
